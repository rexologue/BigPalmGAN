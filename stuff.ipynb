{
 "cells": [
  {
   "cell_type": "code",
   "execution_count": 1,
   "metadata": {},
   "outputs": [],
   "source": [
    "from pytorch_pretrained_biggan import BigGAN\n",
    "\n",
    "G = BigGAN.from_pretrained(r\"E:\\Data\\biggan\")"
   ]
  },
  {
   "cell_type": "code",
   "execution_count": null,
   "metadata": {},
   "outputs": [],
   "source": [
    "# Индекс слоя SelfAttn\n",
    "attn_index = 8\n",
    "\n",
    "for i in range(8):\n",
    "    print(G.generator.layers[i + attn_index])"
   ]
  },
  {
   "cell_type": "code",
   "execution_count": 2,
   "metadata": {},
   "outputs": [],
   "source": [
    "import torch\n",
    "\n",
    "G.embeddings = torch.nn.Linear(4, 128, bias=False)"
   ]
  },
  {
   "cell_type": "code",
   "execution_count": 3,
   "metadata": {},
   "outputs": [],
   "source": [
    "from pytorch_pretrained_biggan import truncated_noise_sample\n",
    "import numpy as np\n",
    "\n",
    "################################################################\n",
    "# //////////////////////////////////////////////////////////// #\n",
    "################################################################\n",
    "def get_latent_input(batch_size, label, device='cpu'):\n",
    "    noise = truncated_noise_sample(truncation=0.2, batch_size=batch_size)\n",
    "    noise = torch.tensor(noise).float().to(device)\n",
    "\n",
    "    label_one_hot = np.zeros((batch_size, 4), dtype=np.float32)\n",
    "    \n",
    "    for i, j in enumerate(label):\n",
    "        label_one_hot[i, j] = 1.0\n",
    "        \n",
    "    label_one_hot = torch.tensor(label_one_hot).float().to(device)\n",
    "\n",
    "    return noise, label_one_hot\n",
    "\n",
    "noise, label = get_latent_input(1, [3])\n",
    "\n",
    "img = G(noise, label, 0.2)"
   ]
  },
  {
   "cell_type": "code",
   "execution_count": null,
   "metadata": {},
   "outputs": [],
   "source": [
    "img.shape"
   ]
  },
  {
   "cell_type": "code",
   "execution_count": null,
   "metadata": {},
   "outputs": [],
   "source": [
    "import matplotlib.pyplot as plt\n",
    "\n",
    "plt.imshow((img[0].detach().permute((1, 2, 0)).numpy() + 1) / 2)\n",
    "plt.show()"
   ]
  }
 ],
 "metadata": {
  "kernelspec": {
   "display_name": "dl_main",
   "language": "python",
   "name": "python3"
  },
  "language_info": {
   "codemirror_mode": {
    "name": "ipython",
    "version": 3
   },
   "file_extension": ".py",
   "mimetype": "text/x-python",
   "name": "python",
   "nbconvert_exporter": "python",
   "pygments_lexer": "ipython3",
   "version": "3.11.8"
  }
 },
 "nbformat": 4,
 "nbformat_minor": 2
}
